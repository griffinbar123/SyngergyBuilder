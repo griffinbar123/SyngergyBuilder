{
  "nbformat": 4,
  "nbformat_minor": 0,
  "metadata": {
    "colab": {
      "provenance": []
    },
    "kernelspec": {
      "name": "python3",
      "display_name": "Python 3"
    },
    "language_info": {
      "name": "python"
    }
  },
  "cells": [
    {
      "cell_type": "code",
      "source": [
        "!pip install scikeras"
      ],
      "metadata": {
        "colab": {
          "base_uri": "https://localhost:8080/"
        },
        "id": "OQDKF6bWtM_D",
        "outputId": "dc2dd853-6014-4c93-fb4f-c5d2c76252ff"
      },
      "execution_count": 37,
      "outputs": [
        {
          "output_type": "stream",
          "name": "stdout",
          "text": [
            "Requirement already satisfied: scikeras in /usr/local/lib/python3.10/dist-packages (0.13.0)\n",
            "Requirement already satisfied: keras>=3.2.0 in /usr/local/lib/python3.10/dist-packages (from scikeras) (3.3.3)\n",
            "Requirement already satisfied: scikit-learn>=1.4.2 in /usr/local/lib/python3.10/dist-packages (from scikeras) (1.4.2)\n",
            "Requirement already satisfied: absl-py in /usr/local/lib/python3.10/dist-packages (from keras>=3.2.0->scikeras) (1.4.0)\n",
            "Requirement already satisfied: numpy in /usr/local/lib/python3.10/dist-packages (from keras>=3.2.0->scikeras) (1.25.2)\n",
            "Requirement already satisfied: rich in /usr/local/lib/python3.10/dist-packages (from keras>=3.2.0->scikeras) (13.7.1)\n",
            "Requirement already satisfied: namex in /usr/local/lib/python3.10/dist-packages (from keras>=3.2.0->scikeras) (0.0.8)\n",
            "Requirement already satisfied: h5py in /usr/local/lib/python3.10/dist-packages (from keras>=3.2.0->scikeras) (3.9.0)\n",
            "Requirement already satisfied: optree in /usr/local/lib/python3.10/dist-packages (from keras>=3.2.0->scikeras) (0.11.0)\n",
            "Requirement already satisfied: ml-dtypes in /usr/local/lib/python3.10/dist-packages (from keras>=3.2.0->scikeras) (0.2.0)\n",
            "Requirement already satisfied: scipy>=1.6.0 in /usr/local/lib/python3.10/dist-packages (from scikit-learn>=1.4.2->scikeras) (1.11.4)\n",
            "Requirement already satisfied: joblib>=1.2.0 in /usr/local/lib/python3.10/dist-packages (from scikit-learn>=1.4.2->scikeras) (1.4.2)\n",
            "Requirement already satisfied: threadpoolctl>=2.0.0 in /usr/local/lib/python3.10/dist-packages (from scikit-learn>=1.4.2->scikeras) (3.5.0)\n",
            "Requirement already satisfied: typing-extensions>=4.0.0 in /usr/local/lib/python3.10/dist-packages (from optree->keras>=3.2.0->scikeras) (4.11.0)\n",
            "Requirement already satisfied: markdown-it-py>=2.2.0 in /usr/local/lib/python3.10/dist-packages (from rich->keras>=3.2.0->scikeras) (3.0.0)\n",
            "Requirement already satisfied: pygments<3.0.0,>=2.13.0 in /usr/local/lib/python3.10/dist-packages (from rich->keras>=3.2.0->scikeras) (2.16.1)\n",
            "Requirement already satisfied: mdurl~=0.1 in /usr/local/lib/python3.10/dist-packages (from markdown-it-py>=2.2.0->rich->keras>=3.2.0->scikeras) (0.1.2)\n"
          ]
        }
      ]
    },
    {
      "cell_type": "code",
      "execution_count": 38,
      "metadata": {
        "colab": {
          "base_uri": "https://localhost:8080/",
          "height": 1000
        },
        "id": "INivHCSbsiYd",
        "outputId": "f930e6ee-328e-4d67-e9fc-cb92ac7032b8"
      },
      "outputs": [
        {
          "output_type": "stream",
          "name": "stdout",
          "text": [
            "Epoch 1/15\n",
            "\u001b[1m664/664\u001b[0m \u001b[32m━━━━━━━━━━━━━━━━━━━━\u001b[0m\u001b[37m\u001b[0m \u001b[1m6s\u001b[0m 4ms/step - accuracy: 0.5141 - loss: 0.7863 - val_accuracy: 0.5267 - val_loss: 0.7085\n",
            "Epoch 2/15\n",
            "\u001b[1m664/664\u001b[0m \u001b[32m━━━━━━━━━━━━━━━━━━━━\u001b[0m\u001b[37m\u001b[0m \u001b[1m2s\u001b[0m 3ms/step - accuracy: 0.5363 - loss: 0.7039 - val_accuracy: 0.5399 - val_loss: 0.6939\n",
            "Epoch 3/15\n",
            "\u001b[1m664/664\u001b[0m \u001b[32m━━━━━━━━━━━━━━━━━━━━\u001b[0m\u001b[37m\u001b[0m \u001b[1m2s\u001b[0m 3ms/step - accuracy: 0.5481 - loss: 0.6880 - val_accuracy: 0.5483 - val_loss: 0.6898\n",
            "Epoch 4/15\n",
            "\u001b[1m664/664\u001b[0m \u001b[32m━━━━━━━━━━━━━━━━━━━━\u001b[0m\u001b[37m\u001b[0m \u001b[1m4s\u001b[0m 5ms/step - accuracy: 0.5625 - loss: 0.6822 - val_accuracy: 0.5505 - val_loss: 0.6876\n",
            "Epoch 5/15\n",
            "\u001b[1m664/664\u001b[0m \u001b[32m━━━━━━━━━━━━━━━━━━━━\u001b[0m\u001b[37m\u001b[0m \u001b[1m6s\u001b[0m 6ms/step - accuracy: 0.5694 - loss: 0.6765 - val_accuracy: 0.5645 - val_loss: 0.6854\n",
            "Epoch 6/15\n",
            "\u001b[1m664/664\u001b[0m \u001b[32m━━━━━━━━━━━━━━━━━━━━\u001b[0m\u001b[37m\u001b[0m \u001b[1m4s\u001b[0m 5ms/step - accuracy: 0.5764 - loss: 0.6731 - val_accuracy: 0.5611 - val_loss: 0.6848\n",
            "Epoch 7/15\n",
            "\u001b[1m664/664\u001b[0m \u001b[32m━━━━━━━━━━━━━━━━━━━━\u001b[0m\u001b[37m\u001b[0m \u001b[1m3s\u001b[0m 4ms/step - accuracy: 0.5801 - loss: 0.6727 - val_accuracy: 0.5623 - val_loss: 0.6855\n",
            "Epoch 8/15\n",
            "\u001b[1m664/664\u001b[0m \u001b[32m━━━━━━━━━━━━━━━━━━━━\u001b[0m\u001b[37m\u001b[0m \u001b[1m3s\u001b[0m 2ms/step - accuracy: 0.5872 - loss: 0.6708 - val_accuracy: 0.5623 - val_loss: 0.6848\n",
            "Epoch 9/15\n",
            "\u001b[1m664/664\u001b[0m \u001b[32m━━━━━━━━━━━━━━━━━━━━\u001b[0m\u001b[37m\u001b[0m \u001b[1m1s\u001b[0m 2ms/step - accuracy: 0.5862 - loss: 0.6668 - val_accuracy: 0.5619 - val_loss: 0.6854\n",
            "Epoch 10/15\n",
            "\u001b[1m664/664\u001b[0m \u001b[32m━━━━━━━━━━━━━━━━━━━━\u001b[0m\u001b[37m\u001b[0m \u001b[1m2s\u001b[0m 2ms/step - accuracy: 0.5848 - loss: 0.6667 - val_accuracy: 0.5577 - val_loss: 0.6845\n",
            "Epoch 11/15\n",
            "\u001b[1m664/664\u001b[0m \u001b[32m━━━━━━━━━━━━━━━━━━━━\u001b[0m\u001b[37m\u001b[0m \u001b[1m3s\u001b[0m 3ms/step - accuracy: 0.5890 - loss: 0.6653 - val_accuracy: 0.5564 - val_loss: 0.6848\n",
            "Epoch 12/15\n",
            "\u001b[1m664/664\u001b[0m \u001b[32m━━━━━━━━━━━━━━━━━━━━\u001b[0m\u001b[37m\u001b[0m \u001b[1m3s\u001b[0m 3ms/step - accuracy: 0.5922 - loss: 0.6624 - val_accuracy: 0.5547 - val_loss: 0.6867\n",
            "Epoch 13/15\n",
            "\u001b[1m664/664\u001b[0m \u001b[32m━━━━━━━━━━━━━━━━━━━━\u001b[0m\u001b[37m\u001b[0m \u001b[1m2s\u001b[0m 2ms/step - accuracy: 0.6006 - loss: 0.6614 - val_accuracy: 0.5475 - val_loss: 0.6878\n",
            "Epoch 14/15\n",
            "\u001b[1m664/664\u001b[0m \u001b[32m━━━━━━━━━━━━━━━━━━━━\u001b[0m\u001b[37m\u001b[0m \u001b[1m1s\u001b[0m 2ms/step - accuracy: 0.5942 - loss: 0.6617 - val_accuracy: 0.5530 - val_loss: 0.6862\n",
            "Epoch 15/15\n",
            "\u001b[1m664/664\u001b[0m \u001b[32m━━━━━━━━━━━━━━━━━━━━\u001b[0m\u001b[37m\u001b[0m \u001b[1m1s\u001b[0m 2ms/step - accuracy: 0.5971 - loss: 0.6606 - val_accuracy: 0.5496 - val_loss: 0.6869\n",
            "\u001b[1m737/737\u001b[0m \u001b[32m━━━━━━━━━━━━━━━━━━━━\u001b[0m\u001b[37m\u001b[0m \u001b[1m1s\u001b[0m 1ms/step - accuracy: 0.6175 - loss: 0.6515\n",
            "Train Score:  [0.654473602771759, 0.6113255620002747]\n",
            "\u001b[1m246/246\u001b[0m \u001b[32m━━━━━━━━━━━━━━━━━━━━\u001b[0m\u001b[37m\u001b[0m \u001b[1m0s\u001b[0m 1ms/step - accuracy: 0.5482 - loss: 0.6873\n",
            "Test Score:  [0.6841920614242554, 0.5564321279525757]\n"
          ]
        },
        {
          "output_type": "display_data",
          "data": {
            "text/plain": [
              "<Figure size 640x480 with 1 Axes>"
            ],
            "image/png": "[encoded data removed]"
          },
          "metadata": {}
        }
      ],
      "source": [
        "import tensorflow as tf\n",
        "import numpy as np\n",
        "import pandas as pd\n",
        "import matplotlib.pyplot as plt\n",
        "from sklearn.metrics import ConfusionMatrixDisplay\n",
        "from sklearn.model_selection import train_test_split\n",
        "from sklearn.pipeline import make_pipeline\n",
        "from sklearn.preprocessing import StandardScaler\n",
        "from scikeras.wrappers import KerasClassifier\n",
        "from sklearn.metrics import ConfusionMatrixDisplay\n",
        "\n",
        "def loadDataAndTargets():\n",
        "    \"\"\"Reads and loads the data csv file\"\"\"\n",
        "\n",
        "    df = pd.read_csv(\"/content/cleaned_tier_data_small.csv\") # -- used for Google Colab\n",
        "\n",
        "    return df.to_numpy()\n",
        "\n",
        "def tt_split(feature_clean, target_clean):\n",
        "    \"\"\"Executes a typical test train split\"\"\"\n",
        "    feature_train, feature_test, target_train, target_test = train_test_split(feature_clean, target_clean, stratify = target_clean, random_state = 0)\n",
        "\n",
        "    return feature_train, feature_test, target_train, target_test\n",
        "\n",
        "\n",
        "\n",
        "data = loadDataAndTargets()\n",
        "\n",
        "num_data_rows, num_data_cols = np.shape(data)\n",
        "iron_feature = data[:, 1:(num_data_cols - 1)]\n",
        "iron_target = data[:, num_data_cols - 1].astype(int)\n",
        "\n",
        "iron_X_train, iron_X_test, iron_y_train, iron_y_test = tt_split(iron_feature, iron_target)\n",
        "\n",
        "def create_model():\n",
        "    model = tf.keras.models.Sequential()\n",
        "    model.add(tf.keras.layers.Input(shape = (349, ))) #2019\n",
        "    model.add(tf.keras.layers.Dense(11, activation = 'relu'))\n",
        "    model.add(tf.keras.layers.Dropout(0.2))\n",
        "    model.add(tf.keras.layers.Dense(2))\n",
        "\n",
        "    opt = tf.keras.optimizers.Adam(learning_rate = 0.0003)\n",
        "    loss_fn = tf.keras.losses.SparseCategoricalCrossentropy(from_logits = True)\n",
        "    model.compile(optimizer = opt,\n",
        "              loss = loss_fn,\n",
        "              metrics = ['accuracy'])\n",
        "\n",
        "    return model\n",
        "\n",
        "# Convert arrays to tensors\n",
        "iron_X_train = tf.convert_to_tensor(iron_X_train, dtype = tf.float32)\n",
        "iron_y_train = tf.convert_to_tensor(iron_y_train, dtype = tf.float32)\n",
        "iron_X_test = tf.convert_to_tensor(iron_X_test, dtype = tf.float32)\n",
        "iron_y_test = tf.convert_to_tensor(iron_y_test, dtype = tf.float32)\n",
        "\n",
        "scaler = StandardScaler()\n",
        "scaler.fit(iron_X_train)\n",
        "\n",
        "scaled_X_train = scaler.transform(iron_X_train)\n",
        "scaled_X_test = scaler.transform(iron_X_test)\n",
        "\n",
        "model = create_model()\n",
        "\n",
        "history = model.fit(scaled_X_train, iron_y_train, validation_split = 0.1, epochs = 15)\n",
        "\n",
        "print('Train Score: ', model.evaluate(scaled_X_train, iron_y_train))\n",
        "print('Test Score: ', model.evaluate(scaled_X_test, iron_y_test))\n",
        "\n",
        "plt.plot(history.history['loss'])\n",
        "plt.plot(history.history['val_loss'])\n",
        "plt.title('model loss')\n",
        "plt.ylabel('loss')\n",
        "plt.xlabel('epoch')\n",
        "plt.legend(['train', 'val'], loc = 'upper left')\n",
        "plt.show()"
      ]
    },
    {
      "cell_type": "code",
      "source": [
        "# Note the odd formatting of the prediction output\n",
        "X = scaled_X_train[107, :]\n",
        "X = tf.reshape(X, (1, -1))\n",
        "\n",
        "y = model.predict(X)\n",
        "print(np.shape(y))\n",
        "print(y)"
      ],
      "metadata": {
        "colab": {
          "base_uri": "https://localhost:8080/"
        },
        "id": "Wfz_2_3i1U2Z",
        "outputId": "cc744486-9b42-443a-fbc9-029eb190c826"
      },
      "execution_count": 39,
      "outputs": [
        {
          "output_type": "stream",
          "name": "stdout",
          "text": [
            "\u001b[1m1/1\u001b[0m \u001b[32m━━━━━━━━━━━━━━━━━━━━\u001b[0m\u001b[37m\u001b[0m \u001b[1m0s\u001b[0m 47ms/step\n",
            "(1, 2)\n",
            "[[0.70360833 1.2338276 ]]\n"
          ]
        }
      ]
    }
  ]
}